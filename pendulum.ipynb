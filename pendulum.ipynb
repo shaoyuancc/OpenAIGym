{
 "cells": [
  {
   "cell_type": "markdown",
   "id": "9f81494a",
   "metadata": {},
   "source": [
    "\n",
    "# Pendulum\n",
    "\n",
    "https://www.gymlibrary.ml/environments/classic_control/pendulum/"
   ]
  },
  {
   "cell_type": "code",
   "execution_count": 2,
   "id": "c2659d67",
   "metadata": {},
   "outputs": [],
   "source": [
    "%matplotlib ipympl\n",
    "\n",
    "import gym\n",
    "import random\n",
    "import time\n",
    "import numpy as np\n",
    "import matplotlib.pyplot as plt\n",
    "import matplotlib"
   ]
  },
  {
   "cell_type": "code",
   "execution_count": 3,
   "id": "36e297c4",
   "metadata": {},
   "outputs": [],
   "source": [
    "env_name = \"Pendulum-v1\"\n",
    "episode_length = 200"
   ]
  },
  {
   "cell_type": "markdown",
   "id": "b9cb12ac",
   "metadata": {},
   "source": [
    "## Define Agent"
   ]
  },
  {
   "cell_type": "markdown",
   "id": "4c8899ea",
   "metadata": {},
   "source": [
    "### Do Nothing"
   ]
  },
  {
   "cell_type": "code",
   "execution_count": 4,
   "id": "09e4b5e2",
   "metadata": {},
   "outputs": [],
   "source": [
    "class Agent():\n",
    "    def __init__(self, env):\n",
    "        pass\n",
    "\n",
    "    def get_action(self, state):\n",
    "        action = [0]\n",
    "        return action"
   ]
  },
  {
   "cell_type": "markdown",
   "id": "fbeb023d",
   "metadata": {},
   "source": [
    "### Try to make it spin counter-clockwise"
   ]
  },
  {
   "cell_type": "markdown",
   "id": "7699849b",
   "metadata": {},
   "source": [
    "This may or may not work depending on the initial conditions."
   ]
  },
  {
   "cell_type": "code",
   "execution_count": 28,
   "id": "7f0bf4c8",
   "metadata": {},
   "outputs": [],
   "source": [
    "class Agent():\n",
    "    def __init__(self, env):\n",
    "        pass\n",
    "\n",
    "    def get_action(self, state):\n",
    "        action = [2]\n",
    "        return action"
   ]
  },
  {
   "cell_type": "markdown",
   "id": "6ad8affd",
   "metadata": {},
   "source": [
    "### Spin in circles"
   ]
  },
  {
   "cell_type": "markdown",
   "id": "cee3c52a",
   "metadata": {},
   "source": [
    "Go either direction"
   ]
  },
  {
   "cell_type": "code",
   "execution_count": 45,
   "id": "5a657b3b",
   "metadata": {},
   "outputs": [],
   "source": [
    "class Agent():\n",
    "    def __init__(self, env):\n",
    "        self.angle_integral = 0\n",
    "        \n",
    "    def get_action(self, state):\n",
    "        x, y, the_d = state\n",
    "        the = np.arctan2(y, x)\n",
    "\n",
    "        if the_d > 0:\n",
    "            action = [2]\n",
    "        if the_d < 0:\n",
    "            action = [-2]\n",
    "    \n",
    "        return action"
   ]
  },
  {
   "cell_type": "markdown",
   "id": "5e52470b",
   "metadata": {},
   "source": [
    "Spin in a particular direction"
   ]
  },
  {
   "cell_type": "code",
   "execution_count": 38,
   "id": "90753f0a",
   "metadata": {},
   "outputs": [],
   "source": [
    "direction = 'counter-clockwise' # 'counter' or 'counter-clockwise'\n",
    "\n",
    "class Agent():\n",
    "    def __init__(self, env):\n",
    "        self.angle_integral = 0\n",
    "        \n",
    "    def get_action(self, state):\n",
    "        x, y, the_d = state\n",
    "        the = np.arctan2(y, x)\n",
    "        action = [0]\n",
    "        if direction == 'clockwise':\n",
    "            if the_d < 0:\n",
    "                action = [-2]\n",
    "        if direction == 'counter-clockwise':\n",
    "            if the_d > 0:\n",
    "                action = [2]\n",
    "    \n",
    "        return action"
   ]
  },
  {
   "cell_type": "markdown",
   "id": "ff0ec1b1",
   "metadata": {},
   "source": [
    "### Manual Controller"
   ]
  },
  {
   "cell_type": "code",
   "execution_count": 87,
   "id": "565cb1b1",
   "metadata": {},
   "outputs": [],
   "source": [
    "from enum import Enum\n",
    "\n",
    "class Phase(Enum):\n",
    "    SWING_UP = 0\n",
    "    ARREST = 1\n",
    "    BALANCE = 2\n",
    "    FINE_BALANCE = 3\n",
    "\n",
    "class Fsm:\n",
    "    def __init__(self,):\n",
    "        self.phase = Phase.SWING_UP\n",
    "\n",
    "    def update_phase(self, observation):\n",
    "        x, y, w = observation\n",
    "        the = np.arctan2(y,x)\n",
    "        a = w - state[len(state)-1][1] if len(state) > 0 else 0\n",
    "\n",
    "        if abs(the) < 0.05:\n",
    "            self.phase = Phase.FINE_BALANCE\n",
    "        elif abs(the) < 0.3: # and abs(w) < 3 and abs(a) < 2:\n",
    "            self.phase = Phase.BALANCE\n",
    "        elif abs(the) < 1.9 and abs(w) > 3:\n",
    "            self.phase = Phase.ARREST\n",
    "        else:\n",
    "            self.phase = Phase.SWING_UP\n",
    "        \n",
    "        return self.phase\n",
    "\n",
    "class Agent():\n",
    "    def __init__(self, env):\n",
    "        self.angle_integral = 0\n",
    "        \n",
    "    def get_action(self, state, phase):\n",
    "        x, y, the_d = state\n",
    "        the = np.arctan2(y, x)\n",
    "        self.angle_integral += the\n",
    "        action = [0] # Default do nothing\n",
    "        \n",
    "        if phase == Phase.SWING_UP:\n",
    "            if the_d > 0:\n",
    "                action = [2]\n",
    "            if the_d < 0:\n",
    "                action = [-2]\n",
    "        \n",
    "        if phase == Phase.ARREST:\n",
    "            if the_d > 0:\n",
    "                action = [-2]\n",
    "            if the_d < 0:\n",
    "                action = [2]\n",
    "        if phase == Phase.BALANCE or phase == Phase.FINE_BALANCE:\n",
    "            action = get_pid_action(the, the_d, self.angle_integral)\n",
    "\n",
    "        return action\n",
    "\n",
    "def get_inverse_the_action(the):\n",
    "    factor = -0.5\n",
    "    return [np.clip(factor * the, -2, 2)]\n",
    "\n",
    "def get_inverse_w_action(the_d):\n",
    "    factor = -2\n",
    "    return [np.clip(factor * the_d, -2, 2)]\n",
    "\n",
    "def get_pid_action(the, the_d, the_int):\n",
    "    # PID control\n",
    "    factor = 3\n",
    "    p = 0.5\n",
    "    d = 1.5\n",
    "    i = 0.1\n",
    "    composite = factor * ((-1 * p * the) + (-1 * d * the_d)) + -1 * i * the_int\n",
    "    return [np.clip(composite, -2, 2)]\n",
    "\n"
   ]
  },
  {
   "cell_type": "markdown",
   "id": "a128290f",
   "metadata": {},
   "source": [
    "### PID Controller"
   ]
  },
  {
   "cell_type": "code",
   "execution_count": 125,
   "id": "9c2c9028",
   "metadata": {},
   "outputs": [],
   "source": [
    "class Agent():\n",
    "    def __init__(self, env):\n",
    "        self.angle_integral = 0\n",
    "        \n",
    "    def get_action(self, state):\n",
    "        x, y, the_d = state\n",
    "        the = np.arctan2(y, x)\n",
    "        self.angle_integral += the\n",
    "        p = 0.6\n",
    "        d = 0.4\n",
    "        i = 0.1\n",
    "        composite = (-1 * p * the) + (-1 * d * the_d) # + i * self.angle_integral\n",
    "        action = [np.clip(composite, -2, 2)]\n",
    "        return action"
   ]
  },
  {
   "cell_type": "markdown",
   "id": "a3fa36e3",
   "metadata": {},
   "source": [
    "## Live Plot"
   ]
  },
  {
   "cell_type": "code",
   "execution_count": 67,
   "id": "d310196b",
   "metadata": {},
   "outputs": [
    {
     "name": "stderr",
     "output_type": "stream",
     "text": [
      "/var/folders/sl/37m0k__51_3_5c5j02w201r40000gn/T/ipykernel_3808/237125520.py:7: MatplotlibDeprecationWarning: The 'b' parameter of grid() has been renamed 'visible' since Matplotlib 3.5; support for the old name will be dropped two minor releases later.\n",
      "  ax.grid(b=True, which=\"both\")\n"
     ]
    },
    {
     "data": {
      "application/vnd.jupyter.widget-view+json": {
       "model_id": "018cfab7090347348b471245b8d16475",
       "version_major": 2,
       "version_minor": 0
      },
      "image/png": "[encoded data removed]",
      "text/html": [
       "\n",
       "            <div style=\"display: inline-block;\">\n",
       "                <div class=\"jupyter-widgets widget-label\" style=\"text-align: center;\">\n",
       "                    Figure\n",
       "                </div>\n",
       "                <img src='data:image/png;base64,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' width=640.0/>\n",
       "            </div>\n",
       "        "
      ],
      "text/plain": [
       "Canvas(toolbar=Toolbar(toolitems=[('Home', 'Reset original view', 'home', 'home'), ('Back', 'Back to previous …"
      ]
     },
     "metadata": {},
     "output_type": "display_data"
    }
   ],
   "source": [
    "num_subplots = 5\n",
    "fig, axes = plt.subplots(num_subplots,1)\n",
    "lines = []\n",
    "\n",
    "# Set common settings\n",
    "for i, ax in enumerate(axes):\n",
    "    ax.grid(b=True, which=\"both\")\n",
    "    ax.set_xlim(0,episode_length)\n",
    "    ax.xaxis.set_minor_locator(matplotlib.ticker.MultipleLocator(5))\n",
    "    lines.append(ax.plot([], []))\n",
    "    if i != len(axes)-1:\n",
    "        ax.get_xaxis().set_ticklabels([])\n",
    "\n",
    "axes[0].set_ylabel(r'$\\theta$')\n",
    "axes[0].set_ylim(-np.pi/3, np.pi/3)\n",
    "axes[1].set_ylabel(r'$\\omega$')\n",
    "axes[1].set_ylim(-3, 3)\n",
    "axes[2].set_ylabel('integral')\n",
    "axes[2].set_ylim(-8, 8)\n",
    "axes[3].set_ylabel(r'$\\tau$')\n",
    "axes[3].set_ylim(-2.1, 2.1)\n",
    "axes[4].set_ylabel('Phase')\n",
    "axes[4].set_ylim(-0.1, 3.1)\n",
    "\n",
    "ax.set_xlabel(r'$t$')\n",
    "\n",
    "fig.tight_layout()\n",
    "\n",
    "state = []\n",
    "frames = []\n",
    "\n",
    "def plot_state(observation, the_int, action, phase, frame_no):\n",
    "    x, y, w = observation\n",
    "    the = np.arctan2(y,x)\n",
    "    a = w - state[len(state)-1][1] if len(state) > 0 else 0 \n",
    "    tau = action[0]\n",
    "    state.append([the, w, the_int, tau, phase.value])\n",
    "    frames.append(frame_no)\n",
    "    \n",
    "    transpose = np.array(state).T\n",
    "    \n",
    "    for i in range (num_subplots):\n",
    "        lines[i][0].set_data(frames, transpose[i])\n",
    "\n",
    "    fig.canvas.draw()\n"
   ]
  },
  {
   "cell_type": "markdown",
   "id": "7fa0f10a",
   "metadata": {},
   "source": [
    "## Run Environment"
   ]
  },
  {
   "cell_type": "code",
   "execution_count": 88,
   "id": "fda2d262",
   "metadata": {},
   "outputs": [
    {
     "name": "stdout",
     "output_type": "stream",
     "text": [
      "Episode finished after 200 timesteps\n",
      "Final Rewards:[-6.897662204604228]\n"
     ]
    }
   ],
   "source": [
    "env = gym.make(env_name)\n",
    "agent = Agent(env)\n",
    "rewards = list()\n",
    "\n",
    "for i_episode in range(1):\n",
    "    state.clear()\n",
    "    frames.clear()\n",
    "    fsm = Fsm()\n",
    "    observation = env.reset()\n",
    "    for t in range(500):\n",
    "        env.render()\n",
    "        phase = fsm.update_phase(observation)\n",
    "        action = agent.get_action(observation, phase)\n",
    "        the_int = agent.angle_integral\n",
    "        plot_state(observation, the_int, action, phase, t)\n",
    "        observation, reward, done, info = env.step(action)\n",
    "        if done:\n",
    "            print(\"Episode finished after {} timesteps\".format(t+1))\n",
    "            rewards.append(reward)\n",
    "            \n",
    "            break\n",
    "            \n",
    "print(f\"Final Rewards:{rewards}\")\n",
    "env.close()\n"
   ]
  },
  {
   "cell_type": "code",
   "execution_count": 89,
   "id": "cb86a726",
   "metadata": {},
   "outputs": [],
   "source": [
    "plt.close('all')"
   ]
  },
  {
   "cell_type": "code",
   "execution_count": null,
   "id": "727172a4",
   "metadata": {},
   "outputs": [],
   "source": []
  }
 ],
 "metadata": {
  "interpreter": {
   "hash": "ed2e3bcb3ce93aac0af4cf638eb1a19cfc0ad08a37032f74c3347e6ac956a397"
  },
  "kernelspec": {
   "display_name": "Python 3.9.12 ('openai-gym-ivwuKYuv')",
   "language": "python",
   "name": "python3"
  },
  "language_info": {
   "codemirror_mode": {
    "name": "ipython",
    "version": 3
   },
   "file_extension": ".py",
   "mimetype": "text/x-python",
   "name": "python",
   "nbconvert_exporter": "python",
   "pygments_lexer": "ipython3",
   "version": "3.9.12"
  }
 },
 "nbformat": 4,
 "nbformat_minor": 5
}
