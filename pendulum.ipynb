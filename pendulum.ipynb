{
 "cells": [
  {
   "cell_type": "markdown",
   "id": "9f81494a",
   "metadata": {},
   "source": [
    "\n",
    "# Pendulum\n",
    "\n",
    "https://www.gymlibrary.ml/environments/classic_control/pendulum/\n",
    "\n",
    "The goal is to balance the pendulum in an inverted position. The pendulum starts in a random position. The only control you have is torque that you can apply at the pivot point. However, the magnitude of the torque is insufficient to overcome gravity on it's own.\n",
    "\n",
    "![animation](https://www.gymlibrary.ml/_images/pendulum.gif)"
   ]
  },
  {
   "cell_type": "code",
   "execution_count": 3,
   "id": "c2659d67",
   "metadata": {},
   "outputs": [],
   "source": [
    "%matplotlib ipympl\n",
    "\n",
    "import gym\n",
    "import random\n",
    "import time\n",
    "import numpy as np\n",
    "import matplotlib.pyplot as plt\n",
    "import matplotlib"
   ]
  },
  {
   "cell_type": "code",
   "execution_count": 4,
   "id": "36e297c4",
   "metadata": {},
   "outputs": [],
   "source": [
    "env_name = \"Pendulum-v1\"\n",
    "episode_length = 200"
   ]
  },
  {
   "cell_type": "markdown",
   "id": "b9cb12ac",
   "metadata": {},
   "source": [
    "## Define Agent"
   ]
  },
  {
   "cell_type": "markdown",
   "id": "4c8899ea",
   "metadata": {},
   "source": [
    "### Do Nothing\n",
    "No input torque $(\\tau = 0)$\n",
    "\n",
    "You just see the pendulum swinging under the effects of gravity."
   ]
  },
  {
   "cell_type": "code",
   "execution_count": 31,
   "id": "09e4b5e2",
   "metadata": {},
   "outputs": [],
   "source": [
    "class Agent():\n",
    "    def __init__(self, env):\n",
    "        self.angle_integral = 0\n",
    "\n",
    "    def get_action(self, state, phase):\n",
    "        action = [0]\n",
    "        return action"
   ]
  },
  {
   "cell_type": "markdown",
   "id": "3353bb74",
   "metadata": {},
   "source": [
    "![animation](pendulum/pendulum_do_nothing.gif)"
   ]
  },
  {
   "cell_type": "markdown",
   "id": "fbeb023d",
   "metadata": {},
   "source": [
    "### Try to make it spin counter-clockwise"
   ]
  },
  {
   "cell_type": "markdown",
   "id": "7699849b",
   "metadata": {},
   "source": [
    "This agent has a fixed action of $\\tau=2$\n",
    "\n",
    "Note that the torque is insufficient to overcome gravity on it's own (without any build up of momentum).\n",
    "\n",
    "Thus, this fixed action strategy to make the pendulum spin counter-clockwise may or may not work depending on the initial conditions."
   ]
  },
  {
   "cell_type": "code",
   "execution_count": 37,
   "id": "7f0bf4c8",
   "metadata": {},
   "outputs": [],
   "source": [
    "class Agent():\n",
    "    def __init__(self, env):\n",
    "        self.angle_integral = 0\n",
    "\n",
    "    def get_action(self, state, phase):\n",
    "        action = [2]\n",
    "        return action"
   ]
  },
  {
   "cell_type": "markdown",
   "id": "b0d98a09",
   "metadata": {},
   "source": [
    "![animation](pendulum/pendulum_fixed_action_1.gif)"
   ]
  },
  {
   "cell_type": "markdown",
   "id": "6ad8affd",
   "metadata": {},
   "source": [
    "### Apply torque in the direction of motion"
   ]
  },
  {
   "cell_type": "markdown",
   "id": "cee3c52a",
   "metadata": {},
   "source": [
    "Go either direction"
   ]
  },
  {
   "cell_type": "code",
   "execution_count": 167,
   "id": "5a657b3b",
   "metadata": {},
   "outputs": [],
   "source": [
    "class Agent():\n",
    "    def __init__(self, env):\n",
    "        self.angle_integral = 0\n",
    "        \n",
    "    def get_action(self, state, phase):\n",
    "        x, y, the_d = state\n",
    "        the = np.arctan2(y, x)\n",
    "        \n",
    "        action = [0]\n",
    "        if the_d > 0:\n",
    "            action = [2]\n",
    "        if the_d < 0:\n",
    "            action = [-2]\n",
    "    \n",
    "        return action"
   ]
  },
  {
   "cell_type": "markdown",
   "id": "8b15f013",
   "metadata": {},
   "source": [
    "![animation](pendulum/pendulum_direction_of_motion_action.gif)"
   ]
  },
  {
   "cell_type": "markdown",
   "id": "5e52470b",
   "metadata": {},
   "source": [
    "Spin in a particular direction"
   ]
  },
  {
   "cell_type": "code",
   "execution_count": 38,
   "id": "90753f0a",
   "metadata": {},
   "outputs": [],
   "source": [
    "direction = 'counter-clockwise' # 'counter' or 'counter-clockwise'\n",
    "\n",
    "class Agent():\n",
    "    def __init__(self, env):\n",
    "        self.angle_integral = 0\n",
    "        \n",
    "    def get_action(self, state):\n",
    "        x, y, the_d = state\n",
    "        the = np.arctan2(y, x)\n",
    "        action = [0]\n",
    "        if direction == 'clockwise':\n",
    "            if the_d < 0:\n",
    "                action = [-2]\n",
    "        if direction == 'counter-clockwise':\n",
    "            if the_d > 0:\n",
    "                action = [2]\n",
    "    \n",
    "        return action"
   ]
  },
  {
   "cell_type": "markdown",
   "id": "ff0ec1b1",
   "metadata": {},
   "source": [
    "### Swing Up + PD Controller"
   ]
  },
  {
   "cell_type": "markdown",
   "id": "a0c03927",
   "metadata": {},
   "source": [
    "#### Only P Control\n",
    "Only applying control proportional (the 'P' in 'PID') to the error, which in this case is the angle $\\theta$. \n",
    "\n",
    "i.e. If the angle is positive, apply negative torque to make the angle return to 0. If the angle is negative, apply positive torque to make the angle return to 0.\n",
    "\n",
    "This alone doesn't work in this case because the overshooting causes the pendulum to go past the angle at which max torque can recover it back to 0. \n",
    "\n",
    "Overshooting occurs because the force is continually applied all the way until $\\theta$ goes past 0 (in either direction)\n",
    "\n",
    "![animation](pendulum/pendulum_p_control.gif)"
   ]
  },
  {
   "cell_type": "markdown",
   "id": "78c7cef6",
   "metadata": {},
   "source": [
    "#### Only D Control\n",
    "Only applying control proportional to the derivative (the 'D' in 'PID') of the error, which in this case is the anglular velocity $\\omega$. \n",
    "\n",
    "i.e. If $\\omega$ is positive, apply negative torque to make $\\omega$ go to 0. If the $\\omega$ is negative, apply positive torque to make the $\\omega$ go to 0.\n",
    "\n",
    "This does a good job of slowing the pendulum down but doesn't get it to the angle that we want ($\\theta=0$)\n",
    "![animation](pendulum/pendulum_d_control.gif)\n"
   ]
  },
  {
   "cell_type": "markdown",
   "id": "977f2b9f",
   "metadata": {},
   "source": [
    "#### Combining P and D\n",
    "Combining the corrections based on both the angle and angular velocity allows you to balance the pendulum in the inverted position."
   ]
  },
  {
   "cell_type": "code",
   "execution_count": 10,
   "id": "565cb1b1",
   "metadata": {},
   "outputs": [],
   "source": [
    "from enum import Enum\n",
    "\n",
    "class Phase(Enum):\n",
    "    DEFAULT = 0\n",
    "    SWING_UP = 1\n",
    "    ARREST = 2\n",
    "    BALANCE = 3\n",
    "    FINE_BALANCE = 4\n",
    "\n",
    "class Fsm:\n",
    "    def __init__(self):\n",
    "        self.phase = Phase.SWING_UP\n",
    "\n",
    "    def update_phase(self, observation):\n",
    "        x, y, w = observation\n",
    "        the = np.arctan2(y,x)\n",
    "        a = w - state[len(state)-1][1] if len(state) > 0 else 0\n",
    "\n",
    "        if abs(the) < 0.05:\n",
    "            self.phase = Phase.FINE_BALANCE\n",
    "        elif abs(the) < np.pi/2 and abs(w) > 3 and the * w < 0:\n",
    "            self.phase = Phase.ARREST\n",
    "        elif abs(the) < 0.55:\n",
    "            self.phase = Phase.BALANCE\n",
    "        elif abs(the) >= 1.8:\n",
    "            self.phase = Phase.SWING_UP\n",
    "        else:\n",
    "            self.phase = Phase.DEFAULT\n",
    "    \n",
    "        return self.phase\n",
    "\n",
    "kp = 8 # 8\n",
    "kd = 5 # 5\n",
    "ki = 0\n",
    "\n",
    "class Agent():\n",
    "    def __init__(self, env):\n",
    "        self.angle_integral = 0\n",
    "        \n",
    "    def get_action(self, state, phase):\n",
    "        x, y, the_d = state\n",
    "        the = np.arctan2(y, x)\n",
    "        self.angle_integral += the\n",
    "        \n",
    "        if phase == phase.DEFAULT:\n",
    "            action = [0] # Default do nothing\n",
    "        elif phase == Phase.SWING_UP:\n",
    "            if the_d > 0:\n",
    "                action = [2]\n",
    "            if the_d < 0:\n",
    "                action = [-2]\n",
    "        else:\n",
    "            composite = (-1 * kp * the) + (-1 * kd * the_d) + (-1 * ki * the_int)\n",
    "            action = [np.clip(composite, -2, 2)]\n",
    "\n",
    "        return action\n"
   ]
  },
  {
   "cell_type": "markdown",
   "id": "c1749340",
   "metadata": {},
   "source": [
    "![animation](pendulum/pendulum_pd_control.gif)\n",
    "![animation](pendulum/pendulum_pd_control_1.gif)"
   ]
  },
  {
   "cell_type": "markdown",
   "id": "a3fa36e3",
   "metadata": {},
   "source": [
    "## Live Plot"
   ]
  },
  {
   "cell_type": "code",
   "execution_count": 11,
   "id": "d310196b",
   "metadata": {},
   "outputs": [
    {
     "data": {
      "application/vnd.jupyter.widget-view+json": {
       "model_id": "6eb6cade7baf4dc184a275e81ab45590",
       "version_major": 2,
       "version_minor": 0
      },
      "image/png": "[encoded data removed]",
      "text/html": [
       "\n",
       "            <div style=\"display: inline-block;\">\n",
       "                <div class=\"jupyter-widgets widget-label\" style=\"text-align: center;\">\n",
       "                    Figure\n",
       "                </div>\n",
       "                <img src='data:image/png;base64,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' width=600.0/>\n",
       "            </div>\n",
       "        "
      ],
      "text/plain": [
       "Canvas(toolbar=Toolbar(toolitems=[('Home', 'Reset original view', 'home', 'home'), ('Back', 'Back to previous …"
      ]
     },
     "metadata": {},
     "output_type": "display_data"
    }
   ],
   "source": [
    "num_subplots = 5\n",
    "fig, axes = plt.subplots(num_subplots,1)\n",
    "lines = []\n",
    "\n",
    "# Set common settings\n",
    "for i, ax in enumerate(axes):\n",
    "    ax.grid(visible=True, which=\"both\")\n",
    "    ax.set_xlim(0,episode_length)\n",
    "    ax.xaxis.set_minor_locator(matplotlib.ticker.MultipleLocator(5))\n",
    "    lines.append(ax.plot([], []))\n",
    "    if i != len(axes)-1:\n",
    "        ax.get_xaxis().set_ticklabels([])\n",
    "\n",
    "axes[0].set_ylabel(r'$\\theta$')\n",
    "axes[0].set_ylim(-np.pi, np.pi)\n",
    "axes[1].set_ylabel(r'$\\omega$')\n",
    "axes[1].set_ylim(-8, 8)\n",
    "axes[2].set_ylabel('Integral')\n",
    "axes[2].set_ylim(-10, 10)\n",
    "axes[3].set_ylabel(r'$\\tau$')\n",
    "axes[3].set_ylim(-2.1, 2.1)\n",
    "axes[4].set_ylabel('Phase')\n",
    "axes[4].set_ylim(-0.1, 4.1)\n",
    "\n",
    "ax.set_xlabel(r'$t$')\n",
    "annotation_text = ' '.join([f'$kp={kp}$', f'$ki={ki}$', f'$kd={kd}$'])\n",
    "fig.text(0.02,0.02, annotation_text, va='bottom', ha='left',)\n",
    "\n",
    "fig.tight_layout()\n",
    "fig.set_size_inches(6,6)\n",
    "\n",
    "state = []\n",
    "frames = []\n",
    "\n",
    "def plot_state(observation, the_int, action, phase, frame_no):\n",
    "    x, y, w = observation\n",
    "    the = np.arctan2(y,x)\n",
    "    a = w - state[len(state)-1][1] if len(state) > 0 else 0 \n",
    "    tau = action[0]\n",
    "    state.append([the, w, the_int, tau, phase.value])\n",
    "    frames.append(frame_no)\n",
    "    \n",
    "    transpose = np.array(state).T\n",
    "    \n",
    "    for i in range (num_subplots):\n",
    "        lines[i][0].set_data(frames, transpose[i])\n",
    "\n",
    "    fig.canvas.draw()\n",
    "\n",
    "    # To save animation as gif\n",
    "    data = np.frombuffer(fig.canvas.tostring_rgb(), dtype=np.uint8)\n",
    "    data = data.reshape(fig.canvas.get_width_height()[::-1] + (3,))\n",
    "    return data\n"
   ]
  },
  {
   "cell_type": "markdown",
   "id": "7fa0f10a",
   "metadata": {},
   "source": [
    "## Run Environment"
   ]
  },
  {
   "cell_type": "markdown",
   "id": "bb60d53b",
   "metadata": {},
   "source": [
    "### Run without saving gif"
   ]
  },
  {
   "cell_type": "code",
   "execution_count": 7,
   "id": "fda2d262",
   "metadata": {},
   "outputs": [
    {
     "name": "stdout",
     "output_type": "stream",
     "text": [
      "Episode finished after 200 timesteps\n",
      "Final Rewards:[-0.13923240791967573]\n"
     ]
    }
   ],
   "source": [
    "env = gym.make(env_name)\n",
    "agent = Agent(env)\n",
    "rewards = list()\n",
    "\n",
    "for i_episode in range(1):\n",
    "    state.clear()\n",
    "    frames.clear()\n",
    "    fsm = Fsm()\n",
    "    observation = env.reset()\n",
    "    for t in range(200):\n",
    "        env.render()\n",
    "        phase = fsm.update_phase(observation)\n",
    "        action = agent.get_action(observation, phase)\n",
    "        the_int = agent.angle_integral\n",
    "        plot_state(observation, the_int, action, phase, t)\n",
    "        observation, reward, done, info = env.step(action)\n",
    "        if done:\n",
    "            print(\"Episode finished after {} timesteps\".format(t+1))\n",
    "            rewards.append(reward)\n",
    "            \n",
    "            break\n",
    "            \n",
    "print(f\"Final Rewards:{rewards}\")\n",
    "env.close()\n"
   ]
  },
  {
   "cell_type": "code",
   "execution_count": 123,
   "id": "cb86a726",
   "metadata": {},
   "outputs": [],
   "source": [
    "plt.close('all')"
   ]
  },
  {
   "cell_type": "markdown",
   "id": "8f201e99",
   "metadata": {},
   "source": [
    "### Run and save output to gif"
   ]
  },
  {
   "cell_type": "code",
   "execution_count": 12,
   "id": "727172a4",
   "metadata": {},
   "outputs": [
    {
     "name": "stdout",
     "output_type": "stream",
     "text": [
      "Episode finished after 200 timesteps\n",
      "Final Rewards:[-6.973116249384198e-07]\n"
     ]
    }
   ],
   "source": [
    "from PIL import Image\n",
    "import cv2\n",
    "episode_length = 200\n",
    "def process_and_save_images(img_env, img_plot):\n",
    "    img_plot = cv2.resize(img_plot, (500,500))\n",
    "    img_combined = np.concatenate([img_env, img_plot], axis=1)\n",
    "    images.append(Image.fromarray(img_combined))\n",
    "\n",
    "images = []\n",
    "env = gym.make(env_name)\n",
    "agent = Agent(env)\n",
    "rewards = list()\n",
    "\n",
    "for i_episode in range(1):\n",
    "    state.clear()\n",
    "    frames.clear()\n",
    "    fsm = Fsm()\n",
    "    observation = env.reset()\n",
    "    for t in range(episode_length):\n",
    "        img_env = env.render(mode='rgb_array')\n",
    "        phase = fsm.update_phase(observation)\n",
    "        action = agent.get_action(observation, phase)\n",
    "        the_int = agent.angle_integral\n",
    "        img_plot = plot_state(observation, the_int, action, phase, t)\n",
    "        process_and_save_images(img_env, img_plot)\n",
    "        observation, reward, done, info = env.step(action)\n",
    "        if done:\n",
    "            print(\"Episode finished after {} timesteps\".format(t+1))\n",
    "            rewards.append(reward)\n",
    "            break\n",
    "    \n",
    "    images[0].save('pendulum/pendulum_pd_control.gif',\n",
    "               save_all=True, append_images=images[1:], optimize=False, duration=66, loop=0)\n",
    "            \n",
    "print(f\"Final Rewards:{rewards}\")\n",
    "env.close()\n",
    "\n"
   ]
  }
 ],
 "metadata": {
  "interpreter": {
   "hash": "ed2e3bcb3ce93aac0af4cf638eb1a19cfc0ad08a37032f74c3347e6ac956a397"
  },
  "kernelspec": {
   "display_name": "Python 3.9.12 ('openai-gym-ivwuKYuv')",
   "language": "python",
   "name": "python3"
  },
  "language_info": {
   "codemirror_mode": {
    "name": "ipython",
    "version": 3
   },
   "file_extension": ".py",
   "mimetype": "text/x-python",
   "name": "python",
   "nbconvert_exporter": "python",
   "pygments_lexer": "ipython3",
   "version": "3.9.12"
  }
 },
 "nbformat": 4,
 "nbformat_minor": 5
}
