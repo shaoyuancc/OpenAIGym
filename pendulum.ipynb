{
 "cells": [
  {
   "cell_type": "markdown",
   "id": "9f81494a",
   "metadata": {},
   "source": [
    "\n",
    "# Pendulum\n",
    "\n",
    "https://www.gymlibrary.ml/environments/classic_control/pendulum/"
   ]
  },
  {
   "cell_type": "code",
   "execution_count": 1,
   "id": "c2659d67",
   "metadata": {},
   "outputs": [],
   "source": [
    "%matplotlib ipympl\n",
    "\n",
    "import gym\n",
    "import random\n",
    "import time\n",
    "import numpy as np\n",
    "import matplotlib.pyplot as plt\n",
    "import matplotlib"
   ]
  },
  {
   "cell_type": "code",
   "execution_count": 2,
   "id": "36e297c4",
   "metadata": {},
   "outputs": [],
   "source": [
    "env_name = \"Pendulum-v1\"\n",
    "episode_length = 200"
   ]
  },
  {
   "cell_type": "markdown",
   "id": "b9cb12ac",
   "metadata": {},
   "source": [
    "## Define Agent"
   ]
  },
  {
   "cell_type": "markdown",
   "id": "4c8899ea",
   "metadata": {},
   "source": [
    "### Do Nothing"
   ]
  },
  {
   "cell_type": "code",
   "execution_count": 4,
   "id": "09e4b5e2",
   "metadata": {},
   "outputs": [],
   "source": [
    "class Agent():\n",
    "    def __init__(self, env):\n",
    "        pass\n",
    "\n",
    "    def get_action(self, state):\n",
    "        action = [0]\n",
    "        return action"
   ]
  },
  {
   "cell_type": "markdown",
   "id": "fbeb023d",
   "metadata": {},
   "source": [
    "### Try to make it spin counter-clockwise"
   ]
  },
  {
   "cell_type": "markdown",
   "id": "7699849b",
   "metadata": {},
   "source": [
    "This may or may not work depending on the initial conditions."
   ]
  },
  {
   "cell_type": "code",
   "execution_count": 28,
   "id": "7f0bf4c8",
   "metadata": {},
   "outputs": [],
   "source": [
    "class Agent():\n",
    "    def __init__(self, env):\n",
    "        pass\n",
    "\n",
    "    def get_action(self, state):\n",
    "        action = [2]\n",
    "        return action"
   ]
  },
  {
   "cell_type": "markdown",
   "id": "6ad8affd",
   "metadata": {},
   "source": [
    "### Spin in circles"
   ]
  },
  {
   "cell_type": "markdown",
   "id": "cee3c52a",
   "metadata": {},
   "source": [
    "Go either direction"
   ]
  },
  {
   "cell_type": "code",
   "execution_count": 45,
   "id": "5a657b3b",
   "metadata": {},
   "outputs": [],
   "source": [
    "class Agent():\n",
    "    def __init__(self, env):\n",
    "        self.angle_integral = 0\n",
    "        \n",
    "    def get_action(self, state):\n",
    "        x, y, the_d = state\n",
    "        the = np.arctan2(y, x)\n",
    "\n",
    "        if the_d > 0:\n",
    "            action = [2]\n",
    "        if the_d < 0:\n",
    "            action = [-2]\n",
    "    \n",
    "        return action"
   ]
  },
  {
   "cell_type": "markdown",
   "id": "5e52470b",
   "metadata": {},
   "source": [
    "Spin in a particular direction"
   ]
  },
  {
   "cell_type": "code",
   "execution_count": 38,
   "id": "90753f0a",
   "metadata": {},
   "outputs": [],
   "source": [
    "direction = 'counter-clockwise' # 'counter' or 'counter-clockwise'\n",
    "\n",
    "class Agent():\n",
    "    def __init__(self, env):\n",
    "        self.angle_integral = 0\n",
    "        \n",
    "    def get_action(self, state):\n",
    "        x, y, the_d = state\n",
    "        the = np.arctan2(y, x)\n",
    "        action = [0]\n",
    "        if direction == 'clockwise':\n",
    "            if the_d < 0:\n",
    "                action = [-2]\n",
    "        if direction == 'counter-clockwise':\n",
    "            if the_d > 0:\n",
    "                action = [2]\n",
    "    \n",
    "        return action"
   ]
  },
  {
   "cell_type": "markdown",
   "id": "ff0ec1b1",
   "metadata": {},
   "source": [
    "### Manual Controller"
   ]
  },
  {
   "cell_type": "code",
   "execution_count": 14,
   "id": "565cb1b1",
   "metadata": {},
   "outputs": [],
   "source": [
    "from enum import Enum\n",
    "\n",
    "class Phase(Enum):\n",
    "    SWING_UP = 0\n",
    "    ARREST = 1\n",
    "    BALANCE = 2\n",
    "    FINE_BALANCE = 3\n",
    "\n",
    "class Fsm:\n",
    "    def __init__(self,):\n",
    "        self.phase = Phase.SWING_UP\n",
    "\n",
    "    def update_phase(self, observation):\n",
    "        x, y, w = observation\n",
    "        the = np.arctan2(y,x)\n",
    "        a = w - state[len(state)-1][1] if len(state) > 0 else 0\n",
    "\n",
    "        if abs(the) < 0.05:\n",
    "            self.phase = Phase.FINE_BALANCE\n",
    "        elif abs(the) < np.pi/2 and abs(w) > 2.5 and the * w < 0:\n",
    "            self.phase = Phase.ARREST\n",
    "        elif abs(the) >= np.pi/2:\n",
    "            self.phase = Phase.SWING_UP\n",
    "        else:\n",
    "            self.phase = Phase.BALANCE\n",
    "            \n",
    "        return self.phase\n",
    "\n",
    "class Agent():\n",
    "    def __init__(self, env):\n",
    "        self.angle_integral = 0\n",
    "        \n",
    "    def get_action(self, state, phase):\n",
    "        x, y, the_d = state\n",
    "        the = np.arctan2(y, x)\n",
    "        self.angle_integral += the\n",
    "        action = [0] # Default do nothing\n",
    "        \n",
    "        if phase == Phase.SWING_UP:\n",
    "            if the_d > 0:\n",
    "                action = [2]\n",
    "            if the_d < 0:\n",
    "                action = [-2]\n",
    "        \n",
    "        if phase == Phase.ARREST:\n",
    "            if the_d > 0:\n",
    "                action = [-2]\n",
    "            if the_d < 0:\n",
    "                action = [2]\n",
    "        if phase == Phase.BALANCE or phase == Phase.FINE_BALANCE:\n",
    "            action = get_pid_action(the, the_d, self.angle_integral)\n",
    "\n",
    "        return action\n",
    "\n",
    "def get_inverse_the_action(the):\n",
    "    factor = -0.5\n",
    "    return [np.clip(factor * the, -2, 2)]\n",
    "\n",
    "def get_inverse_w_action(the_d):\n",
    "    factor = -2\n",
    "    return [np.clip(factor * the_d, -2, 2)]\n",
    "\n",
    "kp = 2.4\n",
    "kd = 5\n",
    "ki = 0\n",
    "\n",
    "def get_pid_action(the, the_d, the_int):\n",
    "    # PID control\n",
    "    composite = (-1 * kp * the) + (-1 * kd * the_d) + (-1 * ki * the_int)\n",
    "    return [np.clip(composite, -2, 2)]\n",
    "\n"
   ]
  },
  {
   "cell_type": "markdown",
   "id": "a128290f",
   "metadata": {},
   "source": [
    "### PID Controller"
   ]
  },
  {
   "cell_type": "code",
   "execution_count": 125,
   "id": "9c2c9028",
   "metadata": {},
   "outputs": [],
   "source": [
    "class Agent():\n",
    "    def __init__(self, env):\n",
    "        self.angle_integral = 0\n",
    "        \n",
    "    def get_action(self, state):\n",
    "        x, y, the_d = state\n",
    "        the = np.arctan2(y, x)\n",
    "        self.angle_integral += the\n",
    "        p = 0.6\n",
    "        d = 0.4\n",
    "        i = 0.1\n",
    "        composite = (-1 * p * the) + (-1 * d * the_d) # + i * self.angle_integral\n",
    "        action = [np.clip(composite, -2, 2)]\n",
    "        return action"
   ]
  },
  {
   "cell_type": "markdown",
   "id": "a3fa36e3",
   "metadata": {},
   "source": [
    "## Live Plot"
   ]
  },
  {
   "cell_type": "code",
   "execution_count": 4,
   "id": "d310196b",
   "metadata": {},
   "outputs": [
    {
     "name": "stderr",
     "output_type": "stream",
     "text": [
      "/Users/chewchiashaoyuan/.local/share/virtualenvs/openai-gym-ivwuKYuv/lib/python3.9/site-packages/ipywidgets/widgets/widget.py:477: DeprecationWarning: Passing unrecognized arguments to super(Toolbar).__init__().\n",
      "__init__() missing 1 required positional argument: 'canvas'\n",
      "This is deprecated in traitlets 4.2.This error will be raised in a future release of traitlets.\n",
      "  super(Widget, self).__init__(**kwargs)\n",
      "/var/folders/sl/37m0k__51_3_5c5j02w201r40000gn/T/ipykernel_12067/3881468723.py:7: MatplotlibDeprecationWarning: The 'b' parameter of grid() has been renamed 'visible' since Matplotlib 3.5; support for the old name will be dropped two minor releases later.\n",
      "  ax.grid(b=True, which=\"both\")\n"
     ]
    },
    {
     "data": {
      "application/vnd.jupyter.widget-view+json": {
       "model_id": "5a2780be4c6b4c859c91b472a4280e63",
       "version_major": 2,
       "version_minor": 0
      },
      "image/png": "[encoded data removed]",
      "text/html": [
       "\n",
       "            <div style=\"display: inline-block;\">\n",
       "                <div class=\"jupyter-widgets widget-label\" style=\"text-align: center;\">\n",
       "                    Figure\n",
       "                </div>\n",
       "                <img src='data:image/png;base64,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' width=1000.0/>\n",
       "            </div>\n",
       "        "
      ],
      "text/plain": [
       "Canvas(toolbar=Toolbar(toolitems=[('Home', 'Reset original view', 'home', 'home'), ('Back', 'Back to previous …"
      ]
     },
     "metadata": {},
     "output_type": "display_data"
    }
   ],
   "source": [
    "num_subplots = 5\n",
    "fig, axes = plt.subplots(num_subplots,1)\n",
    "lines = []\n",
    "\n",
    "# Set common settings\n",
    "for i, ax in enumerate(axes):\n",
    "    ax.grid(b=True, which=\"both\")\n",
    "    ax.set_xlim(0,episode_length)\n",
    "    ax.xaxis.set_minor_locator(matplotlib.ticker.MultipleLocator(5))\n",
    "    lines.append(ax.plot([], []))\n",
    "    if i != len(axes)-1:\n",
    "        ax.get_xaxis().set_ticklabels([])\n",
    "\n",
    "axes[0].set_ylabel(r'$\\theta$')\n",
    "axes[0].set_ylim(-np.pi/3, np.pi/3)\n",
    "axes[1].set_ylabel(r'$\\omega$')\n",
    "axes[1].set_ylim(-3, 3)\n",
    "axes[2].set_ylabel('integral')\n",
    "axes[2].set_ylim(-8, 8)\n",
    "axes[3].set_ylabel(r'$\\tau$')\n",
    "axes[3].set_ylim(-2.1, 2.1)\n",
    "axes[4].set_ylabel('Phase')\n",
    "axes[4].set_ylim(-0.1, 3.1)\n",
    "\n",
    "ax.set_xlabel(r'$t$')\n",
    "annotation_text = '\\n'.join([f'$kp={kp}$', f'$ki={ki}$', f'$kd={kd}$'])\n",
    "fig.text(0,0, annotation_text)\n",
    "\n",
    "fig.tight_layout()\n",
    "fig.set_size_inches(10,10)\n",
    "\n",
    "state = []\n",
    "frames = []\n",
    "\n",
    "def plot_state(observation, the_int, action, phase, frame_no):\n",
    "    x, y, w = observation\n",
    "    the = np.arctan2(y,x)\n",
    "    a = w - state[len(state)-1][1] if len(state) > 0 else 0 \n",
    "    tau = action[0]\n",
    "    state.append([the, w, the_int, tau, phase.value])\n",
    "    frames.append(frame_no)\n",
    "    \n",
    "    transpose = np.array(state).T\n",
    "    \n",
    "    for i in range (num_subplots):\n",
    "        lines[i][0].set_data(frames, transpose[i])\n",
    "\n",
    "    fig.canvas.draw()\n"
   ]
  },
  {
   "cell_type": "markdown",
   "id": "7fa0f10a",
   "metadata": {},
   "source": [
    "## Run Environment"
   ]
  },
  {
   "cell_type": "code",
   "execution_count": 15,
   "id": "fda2d262",
   "metadata": {},
   "outputs": [
    {
     "name": "stdout",
     "output_type": "stream",
     "text": [
      "Episode finished after 200 timesteps\n",
      "Final Rewards:[-0.006017632307930866]\n"
     ]
    }
   ],
   "source": [
    "env = gym.make(env_name)\n",
    "agent = Agent(env)\n",
    "rewards = list()\n",
    "\n",
    "for i_episode in range(1):\n",
    "    state.clear()\n",
    "    frames.clear()\n",
    "    fsm = Fsm()\n",
    "    observation = env.reset()\n",
    "    for t in range(500):\n",
    "        env.render()\n",
    "        phase = fsm.update_phase(observation)\n",
    "        action = agent.get_action(observation, phase)\n",
    "        the_int = agent.angle_integral\n",
    "        plot_state(observation, the_int, action, phase, t)\n",
    "        observation, reward, done, info = env.step(action)\n",
    "        if done:\n",
    "            print(\"Episode finished after {} timesteps\".format(t+1))\n",
    "            rewards.append(reward)\n",
    "            \n",
    "            break\n",
    "            \n",
    "print(f\"Final Rewards:{rewards}\")\n",
    "env.close()\n"
   ]
  },
  {
   "cell_type": "code",
   "execution_count": 43,
   "id": "cb86a726",
   "metadata": {},
   "outputs": [],
   "source": [
    "plt.close('all')"
   ]
  },
  {
   "cell_type": "code",
   "execution_count": null,
   "id": "727172a4",
   "metadata": {},
   "outputs": [],
   "source": []
  }
 ],
 "metadata": {
  "interpreter": {
   "hash": "ed2e3bcb3ce93aac0af4cf638eb1a19cfc0ad08a37032f74c3347e6ac956a397"
  },
  "kernelspec": {
   "display_name": "Python 3.9.12 ('openai-gym-ivwuKYuv')",
   "language": "python",
   "name": "python3"
  },
  "language_info": {
   "codemirror_mode": {
    "name": "ipython",
    "version": 3
   },
   "file_extension": ".py",
   "mimetype": "text/x-python",
   "name": "python",
   "nbconvert_exporter": "python",
   "pygments_lexer": "ipython3",
   "version": "3.9.12"
  }
 },
 "nbformat": 4,
 "nbformat_minor": 5
}
