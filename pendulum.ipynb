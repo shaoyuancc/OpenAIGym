{
 "cells": [
  {
   "cell_type": "markdown",
   "id": "9f81494a",
   "metadata": {},
   "source": [
    "\n",
    "# Pendulum\n",
    "\n",
    "https://www.gymlibrary.ml/environments/classic_control/pendulum/"
   ]
  },
  {
   "cell_type": "code",
   "execution_count": 114,
   "id": "c2659d67",
   "metadata": {},
   "outputs": [],
   "source": [
    "%matplotlib ipympl\n",
    "\n",
    "import gym\n",
    "import random\n",
    "import time\n",
    "import numpy as np\n",
    "import matplotlib.pyplot as plt\n",
    "import matplotlib"
   ]
  },
  {
   "cell_type": "code",
   "execution_count": 3,
   "id": "36e297c4",
   "metadata": {},
   "outputs": [],
   "source": [
    "env_name = \"Pendulum-v1\"\n",
    "episode_length = 200"
   ]
  },
  {
   "cell_type": "markdown",
   "id": "b9cb12ac",
   "metadata": {},
   "source": [
    "## Define Agent"
   ]
  },
  {
   "cell_type": "markdown",
   "id": "4c8899ea",
   "metadata": {},
   "source": [
    "### Do Nothing"
   ]
  },
  {
   "cell_type": "code",
   "execution_count": 19,
   "id": "09e4b5e2",
   "metadata": {},
   "outputs": [],
   "source": [
    "class Agent():\n",
    "    def __init__(self, env):\n",
    "        pass\n",
    "\n",
    "    def get_action(self, state):\n",
    "        action = [0]\n",
    "        return action"
   ]
  },
  {
   "cell_type": "markdown",
   "id": "fbeb023d",
   "metadata": {},
   "source": [
    "### Try to make it spin counter-clockwise"
   ]
  },
  {
   "cell_type": "markdown",
   "id": "7699849b",
   "metadata": {},
   "source": [
    "This may or may not work depending on the initial conditions."
   ]
  },
  {
   "cell_type": "code",
   "execution_count": 28,
   "id": "7f0bf4c8",
   "metadata": {},
   "outputs": [],
   "source": [
    "class Agent():\n",
    "    def __init__(self, env):\n",
    "        pass\n",
    "\n",
    "    def get_action(self, state):\n",
    "        action = [2]\n",
    "        return action"
   ]
  },
  {
   "cell_type": "markdown",
   "id": "6ad8affd",
   "metadata": {},
   "source": [
    "### Spin in circles"
   ]
  },
  {
   "cell_type": "markdown",
   "id": "cee3c52a",
   "metadata": {},
   "source": [
    "Go either direction"
   ]
  },
  {
   "cell_type": "code",
   "execution_count": 45,
   "id": "5a657b3b",
   "metadata": {},
   "outputs": [],
   "source": [
    "class Agent():\n",
    "    def __init__(self, env):\n",
    "        self.angle_integral = 0\n",
    "        \n",
    "    def get_action(self, state):\n",
    "        x, y, the_d = state\n",
    "        the = np.arctan2(y, x)\n",
    "\n",
    "        if the_d > 0:\n",
    "            action = [2]\n",
    "        if the_d < 0:\n",
    "            action = [-2]\n",
    "    \n",
    "        return action"
   ]
  },
  {
   "cell_type": "markdown",
   "id": "5e52470b",
   "metadata": {},
   "source": [
    "Spin in a particular direction"
   ]
  },
  {
   "cell_type": "code",
   "execution_count": 38,
   "id": "90753f0a",
   "metadata": {},
   "outputs": [],
   "source": [
    "direction = 'counter-clockwise' # 'counter' or 'counter-clockwise'\n",
    "\n",
    "class Agent():\n",
    "    def __init__(self, env):\n",
    "        self.angle_integral = 0\n",
    "        \n",
    "    def get_action(self, state):\n",
    "        x, y, the_d = state\n",
    "        the = np.arctan2(y, x)\n",
    "        action = [0]\n",
    "        if direction == 'clockwise':\n",
    "            if the_d < 0:\n",
    "                action = [-2]\n",
    "        if direction == 'counter-clockwise':\n",
    "            if the_d > 0:\n",
    "                action = [2]\n",
    "    \n",
    "        return action"
   ]
  },
  {
   "cell_type": "markdown",
   "id": "ff0ec1b1",
   "metadata": {},
   "source": [
    "### Manual Controller"
   ]
  },
  {
   "cell_type": "code",
   "execution_count": 143,
   "id": "565cb1b1",
   "metadata": {},
   "outputs": [],
   "source": [
    "from enum import Enum\n",
    "\n",
    "class Phase(Enum):\n",
    "    SWING_UP = 0\n",
    "    ARREST = 1\n",
    "    BALANCE = 2\n",
    "\n",
    "def get_phase(observation):\n",
    "    x, y, w = observation\n",
    "    the = np.arctan2(y,x)\n",
    "    a = w - state[len(state)-1][1] if len(state) > 0 else 0\n",
    "\n",
    "    if abs(the) < 0.25 and abs(w) < 3 and abs(a) < 2:\n",
    "        return Phase.BALANCE\n",
    "    elif abs(the) < 1.9 and abs(w) > 3:\n",
    "        return Phase.ARREST\n",
    "    return Phase.SWING_UP\n",
    "\n",
    "class Agent():\n",
    "    def __init__(self, env):\n",
    "        self.angle_integral = 0\n",
    "        \n",
    "    def get_action(self, state):\n",
    "        x, y, the_d = state\n",
    "        the = np.arctan2(y, x)\n",
    "        \n",
    "        action = [0] # Default do nothing\n",
    "\n",
    "        phase = get_phase(state)\n",
    "        \n",
    "        if phase == Phase.SWING_UP:\n",
    "            if the_d > 0:\n",
    "                action = [2]\n",
    "            if the_d < 0:\n",
    "                action = [-2]\n",
    "        \n",
    "        if phase == Phase.ARREST:\n",
    "            if the_d > 0:\n",
    "                action = [-2]\n",
    "            if the_d < 0:\n",
    "                action = [2]\n",
    "        \n",
    "        if phase == Phase.BALANCE:\n",
    "            # PID control\n",
    "            factor = 3\n",
    "            p = 0.4\n",
    "            d = 0.6\n",
    "            composite = factor * ((-1 * p * the) + (-1 * d * the_d)) # + i * self.angle_integral\n",
    "            action = [np.clip(composite, -2, 2)]\n",
    "\n",
    "    \n",
    "        return action"
   ]
  },
  {
   "cell_type": "markdown",
   "id": "a128290f",
   "metadata": {},
   "source": [
    "### PID Controller"
   ]
  },
  {
   "cell_type": "code",
   "execution_count": 125,
   "id": "9c2c9028",
   "metadata": {},
   "outputs": [],
   "source": [
    "class Agent():\n",
    "    def __init__(self, env):\n",
    "        self.angle_integral = 0\n",
    "        \n",
    "    def get_action(self, state):\n",
    "        x, y, the_d = state\n",
    "        the = np.arctan2(y, x)\n",
    "        self.angle_integral += the\n",
    "        p = 0.6\n",
    "        d = 0.4\n",
    "        i = 0.1\n",
    "        composite = (-1 * p * the) + (-1 * d * the_d) # + i * self.angle_integral\n",
    "        action = [np.clip(composite, -2, 2)]\n",
    "        return action"
   ]
  },
  {
   "cell_type": "markdown",
   "id": "a3fa36e3",
   "metadata": {},
   "source": [
    "## Live Plot"
   ]
  },
  {
   "cell_type": "code",
   "execution_count": 123,
   "id": "d310196b",
   "metadata": {},
   "outputs": [
    {
     "name": "stderr",
     "output_type": "stream",
     "text": [
      "/Users/chewchiashaoyuan/.local/share/virtualenvs/openai-gym-ivwuKYuv/lib/python3.9/site-packages/ipywidgets/widgets/widget.py:477: DeprecationWarning: Passing unrecognized arguments to super(Toolbar).__init__().\n",
      "__init__() missing 1 required positional argument: 'canvas'\n",
      "This is deprecated in traitlets 4.2.This error will be raised in a future release of traitlets.\n",
      "  super(Widget, self).__init__(**kwargs)\n",
      "/var/folders/sl/37m0k__51_3_5c5j02w201r40000gn/T/ipykernel_924/3037082995.py:7: MatplotlibDeprecationWarning: The 'b' parameter of grid() has been renamed 'visible' since Matplotlib 3.5; support for the old name will be dropped two minor releases later.\n",
      "  ax.grid(b=True, which=\"both\")\n"
     ]
    },
    {
     "data": {
      "application/vnd.jupyter.widget-view+json": {
       "model_id": "feaec38226584e61858cbb68dd814364",
       "version_major": 2,
       "version_minor": 0
      },
      "image/png": "[encoded data removed]",
      "text/html": [
       "\n",
       "            <div style=\"display: inline-block;\">\n",
       "                <div class=\"jupyter-widgets widget-label\" style=\"text-align: center;\">\n",
       "                    Figure\n",
       "                </div>\n",
       "                <img src='data:image/png;base64,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' width=640.0/>\n",
       "            </div>\n",
       "        "
      ],
      "text/plain": [
       "Canvas(toolbar=Toolbar(toolitems=[('Home', 'Reset original view', 'home', 'home'), ('Back', 'Back to previous …"
      ]
     },
     "metadata": {},
     "output_type": "display_data"
    }
   ],
   "source": [
    "num_subplots = 5\n",
    "fig, axes = plt.subplots(num_subplots,1)\n",
    "lines = []\n",
    "\n",
    "# Set common settings\n",
    "for i, ax in enumerate(axes):\n",
    "    ax.grid(b=True, which=\"both\")\n",
    "    ax.set_xlim(0,episode_length)\n",
    "    ax.xaxis.set_minor_locator(matplotlib.ticker.MultipleLocator(5))\n",
    "    lines.append(ax.plot([], []))\n",
    "    if i != len(axes)-1:\n",
    "        ax.get_xaxis().set_ticklabels([])\n",
    "\n",
    "axes[0].set_ylabel(r'$\\theta$')\n",
    "axes[0].set_ylim(-np.pi, np.pi)\n",
    "axes[1].set_ylabel(r'$\\omega$')\n",
    "axes[1].set_ylim(-8, 8)\n",
    "axes[2].set_ylabel(r'$\\alpha$')\n",
    "axes[2].set_ylim(-2, 2)\n",
    "axes[3].set_ylabel(r'$\\tau$')\n",
    "axes[3].set_ylim(-2.1, 2.1)\n",
    "axes[4].set_ylabel('Phase')\n",
    "axes[4].set_ylim(-0.1, 2.1)\n",
    "\n",
    "ax.set_xlabel(r'$t$')\n",
    "\n",
    "fig.tight_layout()\n",
    "\n",
    "state = []\n",
    "frames = []\n",
    "\n",
    "def plot_state(observation, action, frame_no):\n",
    "    x, y, w = observation\n",
    "    the = np.arctan2(y,x)\n",
    "    a = w - state[len(state)-1][1] if len(state) > 0 else 0 \n",
    "    tau = action[0]\n",
    "    phase = get_phase(observation)\n",
    "    state.append([the, w, a, tau, phase.value])\n",
    "    frames.append(frame_no)\n",
    "    \n",
    "    transpose = np.array(state).T\n",
    "    \n",
    "    for i in range (num_subplots):\n",
    "        lines[i][0].set_data(frames, transpose[i])\n",
    "\n",
    "    fig.canvas.draw()\n"
   ]
  },
  {
   "cell_type": "markdown",
   "id": "7fa0f10a",
   "metadata": {},
   "source": [
    "## Run Environment"
   ]
  },
  {
   "cell_type": "code",
   "execution_count": 144,
   "id": "fda2d262",
   "metadata": {},
   "outputs": [
    {
     "name": "stdout",
     "output_type": "stream",
     "text": [
      "Episode finished after 200 timesteps\n",
      "Final Results:[200]\n",
      "Final Positions:[0.07213937]\n"
     ]
    }
   ],
   "source": [
    "env = gym.make(env_name)\n",
    "agent = Agent(env)\n",
    "results = list()\n",
    "final_positions = list()\n",
    "\n",
    "for i_episode in range(1):\n",
    "    state.clear()\n",
    "    frames.clear()\n",
    "    observation = env.reset()\n",
    "    for t in range(500):\n",
    "        env.render()\n",
    "        action = agent.get_action(observation)\n",
    "        plot_state(observation, action, t)\n",
    "        observation, reward, done, info = env.step(action)\n",
    "        if done:\n",
    "            print(\"Episode finished after {} timesteps\".format(t+1))\n",
    "            results.append(t+1)\n",
    "            final_positions.append(observation[0])\n",
    "            break\n",
    "            \n",
    "print(f\"Final Results:{results}\")\n",
    "print(f\"Final Positions:{final_positions}\")\n",
    "env.close()\n"
   ]
  },
  {
   "cell_type": "code",
   "execution_count": 89,
   "id": "cb86a726",
   "metadata": {},
   "outputs": [],
   "source": [
    "plt.close('all')"
   ]
  },
  {
   "cell_type": "code",
   "execution_count": null,
   "id": "727172a4",
   "metadata": {},
   "outputs": [],
   "source": []
  }
 ],
 "metadata": {
  "interpreter": {
   "hash": "ed2e3bcb3ce93aac0af4cf638eb1a19cfc0ad08a37032f74c3347e6ac956a397"
  },
  "kernelspec": {
   "display_name": "Python 3.9.12 ('openai-gym-ivwuKYuv')",
   "language": "python",
   "name": "python3"
  },
  "language_info": {
   "codemirror_mode": {
    "name": "ipython",
    "version": 3
   },
   "file_extension": ".py",
   "mimetype": "text/x-python",
   "name": "python",
   "nbconvert_exporter": "python",
   "pygments_lexer": "ipython3",
   "version": "3.9.12"
  }
 },
 "nbformat": 4,
 "nbformat_minor": 5
}
