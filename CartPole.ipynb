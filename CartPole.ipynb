{
 "cells": [
  {
   "cell_type": "code",
   "execution_count": null,
   "id": "9f81494a",
   "metadata": {},
   "outputs": [],
   "source": [
    "# References\n",
    "# https://github.com/openai/gym/blob/master/gym/envs/classic_control/cartpole.py"
   ]
  },
  {
   "cell_type": "code",
   "execution_count": 1,
   "id": "c2659d67",
   "metadata": {},
   "outputs": [],
   "source": [
    "import gym\n",
    "import random\n",
    "import time"
   ]
  },
  {
   "cell_type": "code",
   "execution_count": 2,
   "id": "36e297c4",
   "metadata": {},
   "outputs": [],
   "source": [
    "env_name = \"CartPole-v1\""
   ]
  },
  {
   "cell_type": "code",
   "execution_count": 15,
   "id": "c6bb651c",
   "metadata": {},
   "outputs": [],
   "source": [
    "# V4\n",
    "class Agent():\n",
    "    def __init__(self, env):\n",
    "        self.action_size = env.action_space.n\n",
    "        \n",
    "    def get_action(self, state):\n",
    "        pole_angle, pole_angular_velocity = state[2:4]\n",
    "        if (abs(pole_angle) < 0.02):\n",
    "            action  = 0 if pole_angular_velocity < 0 else 1\n",
    "        else:\n",
    "            action  = 0 if pole_angle < 0 else 1\n",
    "        return action"
   ]
  },
  {
   "cell_type": "code",
   "execution_count": 27,
   "id": "9c2c9028",
   "metadata": {},
   "outputs": [],
   "source": [
    "# V5 PID\n",
    "class Agent():\n",
    "    def __init__(self, env):\n",
    "        self.action_size = env.action_space.n\n",
    "        self.angle_integral = 0\n",
    "        \n",
    "    def get_action(self, state):\n",
    "        pole_angle, pole_angular_velocity = state[2:4]\n",
    "        self.angle_integral += pole_angle\n",
    "        p = 0.7\n",
    "        d = 0.2\n",
    "        i = 0.1\n",
    "        composite = p*pole_angle + d*pole_angular_velocity + i*self.angle_integral\n",
    "        action = 0 if composite < 0 else 1\n",
    "        return action"
   ]
  },
  {
   "cell_type": "code",
   "execution_count": 28,
   "id": "fda2d262",
   "metadata": {},
   "outputs": [
    {
     "name": "stdout",
     "output_type": "stream",
     "text": [
      "Episode finished after 500 timesteps\n",
      "Episode finished after 500 timesteps\n",
      "Episode finished after 500 timesteps\n",
      "Final Results:[500, 500, 500]\n",
      "Final Positions:[0.34805933, 0.098428704, -0.14230487]\n"
     ]
    }
   ],
   "source": [
    "env = gym.make(env_name)\n",
    "agent = Agent(env)\n",
    "results = list()\n",
    "final_positions = list()\n",
    "\n",
    "for i_episode in range(3):\n",
    "    observation = env.reset()\n",
    "    for t in range(500):\n",
    "        env.render()\n",
    "        action = agent.get_action(observation)\n",
    "#         print(f\"Observation:{observation}, Action:{action}\",)\n",
    "\n",
    "        observation, reward, done, info = env.step(action)\n",
    "        #time.sleep(2)\n",
    "        if done:\n",
    "            print(\"Episode finished after {} timesteps\".format(t+1))\n",
    "            results.append(t+1)\n",
    "            final_positions.append(observation[0])\n",
    "            break\n",
    "            \n",
    "print(f\"Final Results:{results}\")\n",
    "print(f\"Final Positions:{final_positions}\")\n",
    "env.close()"
   ]
  },
  {
   "cell_type": "code",
   "execution_count": null,
   "id": "cb86a726",
   "metadata": {},
   "outputs": [],
   "source": []
  }
 ],
 "metadata": {
  "kernelspec": {
   "display_name": "Python 3 (ipykernel)",
   "language": "python",
   "name": "python3"
  },
  "language_info": {
   "codemirror_mode": {
    "name": "ipython",
    "version": 3
   },
   "file_extension": ".py",
   "mimetype": "text/x-python",
   "name": "python",
   "nbconvert_exporter": "python",
   "pygments_lexer": "ipython3",
   "version": "3.9.10"
  }
 },
 "nbformat": 4,
 "nbformat_minor": 5
}
